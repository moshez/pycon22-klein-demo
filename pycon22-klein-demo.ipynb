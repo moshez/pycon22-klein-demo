{
 "cells": [
  {
   "cell_type": "code",
   "execution_count": 2,
   "id": "32b3a358-c7b7-4c30-b387-5806caa290f9",
   "metadata": {},
   "outputs": [],
   "source": [
    "import asyncio\n",
    "from twisted.internet import asyncioreactor\n",
    "asyncioreactor.install(asyncio.get_event_loop())"
   ]
  },
  {
   "cell_type": "code",
   "execution_count": 7,
   "id": "2e5cfc9f-a58e-47dc-bb58-3dedac29a460",
   "metadata": {},
   "outputs": [],
   "source": [
    "from twisted.internet import endpoints\n",
    "from twisted.internet import reactor"
   ]
  },
  {
   "cell_type": "code",
   "execution_count": 8,
   "id": "04c9b634-bae5-4b9c-a9b7-30d6949a9073",
   "metadata": {},
   "outputs": [],
   "source": [
    "ep = endpoints.serverFromString(reactor, \"tcp:port=8111\")"
   ]
  },
  {
   "cell_type": "code",
   "execution_count": 10,
   "id": "3c26cfe0-a27e-44d8-829f-95e9ff8917ad",
   "metadata": {},
   "outputs": [],
   "source": [
    "import klein\n",
    "from twisted.web import server"
   ]
  },
  {
   "cell_type": "code",
   "execution_count": 11,
   "id": "dec1c5dd-d482-4713-ad1f-75e6bff844a5",
   "metadata": {},
   "outputs": [],
   "source": [
    "site = server.Site(klein.resource())"
   ]
  },
  {
   "cell_type": "code",
   "execution_count": 12,
   "id": "32f05b26-41f9-4667-88aa-874a6a7341e9",
   "metadata": {},
   "outputs": [
    {
     "data": {
      "text/plain": [
       "<Deferred at 0xffff72f2ac50 current result: <<class 'twisted.internet.tcp.Port'> of <class 'twisted.web.server.Site'> on 8111>>"
      ]
     },
     "execution_count": 12,
     "metadata": {},
     "output_type": "execute_result"
    }
   ],
   "source": [
    "ep.listen(site)"
   ]
  },
  {
   "cell_type": "code",
   "execution_count": null,
   "id": "506fdd83-1017-42dc-abba-3da91a3ae97c",
   "metadata": {},
   "outputs": [],
   "source": [
    "from twisted.internet import defer"
   ]
  },
  {
   "cell_type": "code",
   "execution_count": 19,
   "id": "1f312258-6d1f-4055-849f-5ee2b5d2710c",
   "metadata": {},
   "outputs": [],
   "source": [
    "@klein.route(\"/\")\n",
    "def root(request):\n",
    "    d = defer.Deferred()\n",
    "    reactor.callLater(30, d.callback, \"Hi, PyCon 2022, Jupyter Sprint\")\n",
    "    return d"
   ]
  },
  {
   "cell_type": "code",
   "execution_count": 20,
   "id": "74a54bed-8cd7-4fe5-881a-f8672ec6829d",
   "metadata": {},
   "outputs": [
    {
     "name": "stdout",
     "output_type": "stream",
     "text": [
      "hello\n"
     ]
    }
   ],
   "source": [
    "print(\"hello\")"
   ]
  },
  {
   "cell_type": "code",
   "execution_count": null,
   "id": "e40887a6-1911-49b7-9ed2-8cece020916b",
   "metadata": {},
   "outputs": [],
   "source": []
  }
 ],
 "metadata": {
  "kernelspec": {
   "display_name": "pycon22-jupyter-klein-demo",
   "language": "python",
   "name": "pycon22-jupyter-klein-demo-venv"
  },
  "language_info": {
   "codemirror_mode": {
    "name": "ipython",
    "version": 3
   },
   "file_extension": ".py",
   "mimetype": "text/x-python",
   "name": "python",
   "nbconvert_exporter": "python",
   "pygments_lexer": "ipython3",
   "version": "3.10.2"
  }
 },
 "nbformat": 4,
 "nbformat_minor": 5
}
